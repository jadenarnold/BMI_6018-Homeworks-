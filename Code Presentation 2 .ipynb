{
 "cells": [
  {
   "cell_type": "code",
   "execution_count": 27,
   "id": "565d4dd9-b7cb-4319-9fb1-582a43758288",
   "metadata": {},
   "outputs": [
    {
     "name": "stdout",
     "output_type": "stream",
     "text": [
      "Buddy says: Woof!\n",
      "Whiskers says: Meow!\n"
     ]
    }
   ],
   "source": [
    "# Quiz: OOP, Question 4, Demonstrate inheritance with an example\n",
    "# Parent class (base class)\n",
    "class Animal:\n",
    "    def __init__(self, name):\n",
    "        self.name = name\n",
    "\n",
    "    def make_sound(self):\n",
    "        pass  # Placeholder for the method\n",
    "\n",
    "# Child class (derived class) inheriting from Animal\n",
    "class Dog(Animal):\n",
    "    def make_sound(self):\n",
    "        return \"Woof!\"\n",
    "\n",
    "# Child class (derived class) inheriting from Animal\n",
    "class Cat(Animal):\n",
    "    def make_sound(self):\n",
    "        return \"Meow!\"\n",
    "\n",
    "# Create instances of the derived classes\n",
    "dog_instance = Dog(\"Buddy\")\n",
    "cat_instance = Cat(\"Whiskers\")\n",
    "\n",
    "# Access attributes from the base class\n",
    "print(f\"{dog_instance.name} says: {dog_instance.make_sound()}\")\n",
    "print(f\"{cat_instance.name} says: {cat_instance.make_sound()}\")"
   ]
  },
  {
   "cell_type": "code",
   "execution_count": 30,
   "id": "13e9dfd0-93ab-4528-81d7-f532f85c9c29",
   "metadata": {},
   "outputs": [
    {
     "name": "stdout",
     "output_type": "stream",
     "text": [
      "Vector(-3, 6, -3)\n",
      "Vector(3, -6, 3)\n"
     ]
    }
   ],
   "source": [
    "# Quiz: Libraries & Numpy: Question 2\n",
    "\n",
    "# Example usage\n",
    "vector_a = Vector(1, 2, 3)\n",
    "vector_b = Vector(4, 5, 6)\n",
    "\n",
    "# Calculate the cross product both ways\n",
    "result_ab = vector_a.cross_product(vector_b)\n",
    "result_ba = vector_b.cross_product(vector_a)\n",
    "\n",
    "# Display the results\n",
    "print(result_ab)\n",
    "print(result_ba)\n"
   ]
  }
 ],
 "metadata": {
  "kernelspec": {
   "display_name": "Python 3 (ipykernel)",
   "language": "python",
   "name": "python3"
  },
  "language_info": {
   "codemirror_mode": {
    "name": "ipython",
    "version": 3
   },
   "file_extension": ".py",
   "mimetype": "text/x-python",
   "name": "python",
   "nbconvert_exporter": "python",
   "pygments_lexer": "ipython3",
   "version": "3.11.5"
  }
 },
 "nbformat": 4,
 "nbformat_minor": 5
}
