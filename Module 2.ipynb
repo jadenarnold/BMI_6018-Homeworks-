{
 "cells": [
  {
   "cell_type": "code",
   "execution_count": 1,
   "id": "700b81d6-d25a-4c0d-a771-b8b7bcaa4b56",
   "metadata": {
    "scrolled": true
   },
   "outputs": [
    {
     "data": {
      "text/plain": [
       "2"
      ]
     },
     "execution_count": 1,
     "metadata": {},
     "output_type": "execute_result"
    }
   ],
   "source": [
    "# Question 1 \n",
    "# T= 1 and F= 0 \n",
    "1+1-0\n",
    "\n"
   ]
  },
  {
   "cell_type": "code",
   "execution_count": 3,
   "id": "cd0ba0f4-9576-4024-9ab4-b4b99cc46cc4",
   "metadata": {},
   "outputs": [
    {
     "data": {
      "text/plain": [
       "1"
      ]
     },
     "execution_count": 3,
     "metadata": {},
     "output_type": "execute_result"
    }
   ],
   "source": [
    "#Question 2 \n",
    "logical_tracker = True\n",
    "\n",
    "logical_tracker = logical_tracker & logical_tracker\n",
    "\n",
    "logical_tracker = logical_tracker | (logical_tracker - logical_tracker)\n",
    "\n",
    "logical_tracker "
   ]
  },
  {
   "cell_type": "code",
   "execution_count": 10,
   "id": "24d36ad0-0674-4961-a655-79d45860d467",
   "metadata": {},
   "outputs": [
    {
     "data": {
      "text/plain": [
       "' '"
      ]
     },
     "execution_count": 10,
     "metadata": {},
     "output_type": "execute_result"
    }
   ],
   "source": [
    "#Question 5 \n",
    "string = \"E. Coli\"\n",
    "\n",
    "string[2]\n",
    "# string at position two "
   ]
  },
  {
   "cell_type": "code",
   "execution_count": 8,
   "id": "5c2d1d8b-06a0-4805-9525-8de8670b02cc",
   "metadata": {},
   "outputs": [
    {
     "ename": "TypeError",
     "evalue": "'str' object does not support item assignment",
     "output_type": "error",
     "traceback": [
      "\u001b[1;31m---------------------------------------------------------------------------\u001b[0m",
      "\u001b[1;31mTypeError\u001b[0m                                 Traceback (most recent call last)",
      "Cell \u001b[1;32mIn[8], line 4\u001b[0m\n\u001b[0;32m      1\u001b[0m \u001b[38;5;66;03m#Question 6 \u001b[39;00m\n\u001b[0;32m      2\u001b[0m string \u001b[38;5;241m=\u001b[39m \u001b[38;5;124m\"\u001b[39m\u001b[38;5;124mI Bove python\u001b[39m\u001b[38;5;124m\"\u001b[39m\n\u001b[1;32m----> 4\u001b[0m \u001b[43mstring\u001b[49m\u001b[43m[\u001b[49m\u001b[38;5;241;43m2\u001b[39;49m\u001b[43m]\u001b[49m\u001b[38;5;241m=\u001b[39m\u001b[38;5;124m\"\u001b[39m\u001b[38;5;124mL\u001b[39m\u001b[38;5;124m\"\u001b[39m\n",
      "\u001b[1;31mTypeError\u001b[0m: 'str' object does not support item assignment"
     ]
    }
   ],
   "source": [
    "#Question 6 \n",
    "string = \"I Bove python\"\n",
    "\n",
    "string[2]=\"L\"\n",
    "# does not work- we could use the replace function to completely replace the B "
   ]
  },
  {
   "cell_type": "code",
   "execution_count": 13,
   "id": "a0069860-6d14-436c-b7f1-dcfbf22d2fd9",
   "metadata": {},
   "outputs": [
    {
     "name": "stdout",
     "output_type": "stream",
     "text": [
      "5\n",
      "Jack has been prescribed 5 medications\n"
     ]
    }
   ],
   "source": [
    "# Question 7 \n",
    "medications= 5 \n",
    "print(medications) \n",
    "\n",
    "#alternative string option \n",
    "Medications= 'Jack has been prescribed 5 medications' \n",
    "print(Medications) "
   ]
  },
  {
   "cell_type": "code",
   "execution_count": 17,
   "id": "93bb6ad3-d0e7-4186-bf95-0227bdc9d3fa",
   "metadata": {},
   "outputs": [
    {
     "name": "stdout",
     "output_type": "stream",
     "text": [
      "24.034609838166958\n"
     ]
    }
   ],
   "source": [
    "#Question 8\n",
    "\n",
    "#Susuan has a weight of 60 kg and a height of 1.58 meters \n",
    "#BMI is calculated by weight kg/ height m^2 \n",
    "Susan_weight= 60 #kg\n",
    "Susan_height= 1.58 #m\n",
    "BMI= Susan_weight/(Susan_height)**2\n",
    "print(BMI) #kg/m^2"
   ]
  },
  {
   "cell_type": "code",
   "execution_count": 21,
   "id": "d9d3686d-be4a-442c-9794-2a3a7ee2dd61",
   "metadata": {},
   "outputs": [
    {
     "name": "stdout",
     "output_type": "stream",
     "text": [
      "Hello world!\n"
     ]
    }
   ],
   "source": [
    "# Question 9 \n",
    "a= 'Hello'\n",
    "b= \" world!\" \n",
    "print(a+b)\n"
   ]
  }
 ],
 "metadata": {
  "kernelspec": {
   "display_name": "Python 3 (ipykernel)",
   "language": "python",
   "name": "python3"
  },
  "language_info": {
   "codemirror_mode": {
    "name": "ipython",
    "version": 3
   },
   "file_extension": ".py",
   "mimetype": "text/x-python",
   "name": "python",
   "nbconvert_exporter": "python",
   "pygments_lexer": "ipython3",
   "version": "3.11.5"
  }
 },
 "nbformat": 4,
 "nbformat_minor": 5
}
