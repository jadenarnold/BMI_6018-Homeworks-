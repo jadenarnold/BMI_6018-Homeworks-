{
 "cells": [
  {
   "cell_type": "code",
   "execution_count": 1,
   "id": "a8dae590-689d-4de5-b0f8-c74de48039dc",
   "metadata": {},
   "outputs": [],
   "source": [
    "# -*- coding: utf-8 -*-\n",
    "#%% Libraries\n",
    "import pandas as pd\n",
    "import matplotlib.pyplot as plt\n",
    "import numpy as np\n",
    "#%% Importing Data\n",
    "flights_data = pd.read_csv('flights.csv')\n",
    "flights_data.head(10)\n",
    "weather_data_pd = pd.read_csv('weather.csv')\n",
    "weather_data_np = weather_data_pd.to_numpy()\n",
    "\n",
    "#%% Pandas Data Filtering/Sorting Question Answering\n",
    "#use flights_data"
   ]
  },
  {
   "cell_type": "code",
   "execution_count": 6,
   "id": "5629b5d3-911e-4642-8a92-612d3952a88a",
   "metadata": {},
   "outputs": [
    {
     "name": "stdout",
     "output_type": "stream",
     "text": [
      "2113\n"
     ]
    }
   ],
   "source": [
    "#Question 1 How many flights were there from JFK to SLC? Int\n",
    "q_1=len(flights_data[(flights_data['origin'] == 'JFK') & (flights_data['dest'] == 'SLC')])\n",
    "print(q_1)"
   ]
  },
  {
   "cell_type": "code",
   "execution_count": 2,
   "id": "caac2db0-0600-4ed4-8a4d-bb44bd35646c",
   "metadata": {},
   "outputs": [
    {
     "name": "stdout",
     "output_type": "stream",
     "text": [
      "2\n"
     ]
    }
   ],
   "source": [
    "#Question 2 How many airlines fly to SLC? Should be int\n",
    "q_2= len(flights_data[flights_data['dest'] == 'SLC']['carrier'].unique())\n",
    "#unique gives only the unique instances \n",
    "print(q_2)\n"
   ]
  },
  {
   "cell_type": "code",
   "execution_count": 3,
   "id": "12028346-aa09-49ca-96e6-b5bcb589fa11",
   "metadata": {},
   "outputs": [
    {
     "name": "stdout",
     "output_type": "stream",
     "text": [
      "10.052380952380952\n"
     ]
    }
   ],
   "source": [
    "#Question 3 What is the average arrival delay for flights to RDU? float\n",
    "q_3 = flights_data[flights_data['dest'] == 'RDU']['arr_delay'].mean()\n",
    "#mean gives the average \n",
    "print(q_3)\n"
   ]
  },
  {
   "cell_type": "code",
   "execution_count": 9,
   "id": "9b9c7f37-6f66-465f-8fe1-5d1d19c96b35",
   "metadata": {},
   "outputs": [
    {
     "name": "stdout",
     "output_type": "stream",
     "text": [
      "0.5332653581442773\n"
     ]
    },
    {
     "data": {
      "text/plain": [
       "float"
      ]
     },
     "execution_count": 9,
     "metadata": {},
     "output_type": "execute_result"
    }
   ],
   "source": [
    "#Question 4 What proportion of flights to SEA come from the two NYC\n",
    "#airports (LGA and JFK)? float\n",
    "too_SEA= len(flights_data[flights_data['dest'] == 'SEA'])\n",
    "from_NYC= len(flights_data[(flights_data['dest'] == 'SEA')& ((flights_data['origin']== 'LGA')|(flights_data['origin']== 'JFK'))])\n",
    "q_4= from_NYC/too_SEA\n",
    "print(q_4)\n",
    "type(q_4)\n"
   ]
  },
  {
   "cell_type": "code",
   "execution_count": 11,
   "id": "0153fd98-9ef4-4188-99a4-1c8080833908",
   "metadata": {},
   "outputs": [
    {
     "name": "stdout",
     "output_type": "stream",
     "text": [
      "0        2013-01-01\n",
      "1        2013-01-01\n",
      "2        2013-01-01\n",
      "3        2013-01-01\n",
      "4        2013-01-01\n",
      "            ...    \n",
      "336771   2013-09-30\n",
      "336772   2013-09-30\n",
      "336773   2013-09-30\n",
      "336774   2013-09-30\n",
      "336775   2013-09-30\n",
      "Name: date, Length: 336776, dtype: datetime64[ns]\n"
     ]
    }
   ],
   "source": [
    "#Question 5 Which date has the largest average depature delay? Pd slice\n",
    "#with date and float\n",
    "#please make date a column. Preferred format is 2013/1/1 (y/m/d)\n",
    "flights_data['date']= pd.to_datetime(flights_data['year'].astype(str)+'/'+flights_data['month'].astype(str)+'/'+flights_data['day'].astype(str))\n",
    "\n",
    "print(flights_data['date'])\n"
   ]
  },
  {
   "cell_type": "code",
   "execution_count": 13,
   "id": "d6bb381d-f147-4bdc-b787-3f5dcd797874",
   "metadata": {},
   "outputs": [
    {
     "name": "stdout",
     "output_type": "stream",
     "text": [
      "(Timestamp('2013-03-08 00:00:00'), 85.86215538847118)\n"
     ]
    },
    {
     "data": {
      "text/plain": [
       "tuple"
      ]
     },
     "execution_count": 13,
     "metadata": {},
     "output_type": "execute_result"
    }
   ],
   "source": [
    "#Question 6 Which date has the largest average arrival delay? pd slice\n",
    "#with date and float\n",
    "q_6= flights_data.groupby('date')['arr_delay'].mean().idxmax(),flights_data.groupby('date')['arr_delay'].mean().max()\n",
    "#groupby groups data into categories \n",
    "#idxmax the index where the maximum values occurs \n",
    "print(q_6)\n",
    "type(q_6) # date is a string but the delay is a float so this result makes sense \n",
    "\n"
   ]
  },
  {
   "cell_type": "code",
   "execution_count": 53,
   "id": "368b648a-a9c1-4e0d-b198-f9df9c2be62c",
   "metadata": {
    "scrolled": true
   },
   "outputs": [
    {
     "name": "stdout",
     "output_type": "stream",
     "text": [
      "N666DN 11.723076923076922\n"
     ]
    }
   ],
   "source": [
    "#Question 7 Which flight departing LGA or JFK in 2013 flew the fastest? pd\n",
    "#slice with tailnumber and speed\n",
    "#speed = distance/airtime\n",
    "#filter with 2013 & LGA or JFK \n",
    "filtered_flights = flights_data[(flights_data['year'] == 2013) & ((flights_data['origin'] == 'LGA') | (flights_data['origin'] == 'JFK'))]\n",
    "\n",
    "filtered_flights.loc[:, 'speed'] = filtered_flights['distance'] / filtered_flights['air_time']\n",
    "#iloc changes the location based on index of where splicing starts\n",
    "\n",
    "fastest_flight = filtered_flights.loc[filtered_flights['speed'].idxmax()]\n",
    "#idxmax is the location where the maximum occurs\n",
    "#use the idxmax to find the tailnumber- \n",
    "tailnumber = fastest_flight['tailnum']\n",
    "speed = fastest_flight['speed']\n",
    "print(tailnumber, speed)\n",
    "\n"
   ]
  },
  {
   "cell_type": "code",
   "execution_count": 29,
   "id": "68db5faa-ba70-4612-af55-7f164cbdaca3",
   "metadata": {},
   "outputs": [
    {
     "name": "stdout",
     "output_type": "stream",
     "text": [
      "      Unnamed: 0 origin  year  month   day  hour   temp   dewp  humid  \\\n",
      "0              1    EWR  2013    1.0   1.0   0.0  37.04  21.92  53.97   \n",
      "1              2    EWR  2013    1.0   1.0   1.0  37.04  21.92  53.97   \n",
      "2              3    EWR  2013    1.0   1.0   2.0  37.94  21.92  52.09   \n",
      "3              4    EWR  2013    1.0   1.0   3.0  37.94  23.00  54.51   \n",
      "4              5    EWR  2013    1.0   1.0   4.0  37.94  24.08  57.04   \n",
      "...          ...    ...   ...    ...   ...   ...    ...    ...    ...   \n",
      "8714        8715    JFK  2013    9.0   2.0  20.0  75.20  73.40  94.14   \n",
      "8715        8716    JFK  2013   10.0  23.0  10.0  48.92  39.02  68.51   \n",
      "8716        8717    JFK  2013   10.0  23.0  11.0  48.92  39.02  68.51   \n",
      "8717        8718    JFK  2013   12.0  17.0   5.0  26.96  10.94  50.34   \n",
      "8718        8719    LGA  2013    8.0  22.0  22.0  75.92  66.92  73.68   \n",
      "\n",
      "      wind_dir  wind_speed  wind_gust  precip  pressure  visib  \n",
      "0        230.0    10.35702  11.918651     0.0    1013.9   10.0  \n",
      "1        230.0    13.80936  15.891535     0.0    1013.0   10.0  \n",
      "2        230.0    12.65858  14.567241     0.0    1012.6   10.0  \n",
      "3        230.0    13.80936  15.891535     0.0    1012.7   10.0  \n",
      "4        240.0    14.96014  17.215830     0.0    1012.8   10.0  \n",
      "...        ...         ...        ...     ...       ...    ...  \n",
      "8714     200.0     4.60312   5.297178     0.0       0.0    4.0  \n",
      "8715      60.0     4.60312   5.297178     0.0    1008.1   10.0  \n",
      "8716      40.0     4.60312   5.297178     0.0    1008.5   10.0  \n",
      "8717      40.0     4.60312   5.297178     0.0    1023.9   10.0  \n",
      "8718     210.0     8.05546   9.270062     0.0    1011.9   10.0  \n",
      "\n",
      "[8719 rows x 15 columns]\n"
     ]
    }
   ],
   "source": [
    "#Question 8 Replace all nans in the weather pd dataframe with 0s. Pd with\n",
    "#no nans\n",
    "weather_data_pd.fillna(0, inplace=True)\n",
    "\n",
    "print(weather_data_pd)"
   ]
  },
  {
   "cell_type": "code",
   "execution_count": 37,
   "id": "a9fc58db-9a66-46f4-8285-067fe45420e9",
   "metadata": {},
   "outputs": [
    {
     "name": "stdout",
     "output_type": "stream",
     "text": [
      "671\n"
     ]
    }
   ],
   "source": [
    "#%% Numpy Data Filtering/Sorting Question Answering\n",
    "#Use weather_data_np\n",
    "#Question 9 How many observations were made in Feburary? Int\n",
    "q_9= len(weather_data_np[(weather_data_np[:,3]== 2)])\n",
    "print(q_9)\n"
   ]
  },
  {
   "cell_type": "code",
   "execution_count": 40,
   "id": "3d9795a6-cb19-4347-a6a8-44df023ece86",
   "metadata": {},
   "outputs": [
    {
     "name": "stdout",
     "output_type": "stream",
     "text": [
      "62.918152011922515\n"
     ]
    },
    {
     "data": {
      "text/plain": [
       "numpy.float64"
      ]
     },
     "execution_count": 40,
     "metadata": {},
     "output_type": "execute_result"
    }
   ],
   "source": [
    "#Question 10 What was the mean for humidity in February? Float\n",
    "q_10= np.mean(weather_data_np[(weather_data_np[:,3]==2)][:,8])\n",
    "#column 4-1 month & column 9-1 is humidity \n",
    "print(q_10)\n",
    "type(q_10)"
   ]
  },
  {
   "cell_type": "code",
   "execution_count": 43,
   "id": "11fb39ea-35d8-4a98-82ac-dbf31dced0b4",
   "metadata": {},
   "outputs": [
    {
     "name": "stdout",
     "output_type": "stream",
     "text": [
      "20.33690087674334\n"
     ]
    },
    {
     "data": {
      "text/plain": [
       "numpy.float64"
      ]
     },
     "execution_count": 43,
     "metadata": {},
     "output_type": "execute_result"
    }
   ],
   "source": [
    "#Question 11 What was the std for humidity in February? Float\n",
    "q_11= np.std(weather_data_np[(weather_data_np[:,3]==2)][:,8])\n",
    "print(q_11)\n",
    "type(q_11)"
   ]
  }
 ],
 "metadata": {
  "kernelspec": {
   "display_name": "Python 3 (ipykernel)",
   "language": "python",
   "name": "python3"
  },
  "language_info": {
   "codemirror_mode": {
    "name": "ipython",
    "version": 3
   },
   "file_extension": ".py",
   "mimetype": "text/x-python",
   "name": "python",
   "nbconvert_exporter": "python",
   "pygments_lexer": "ipython3",
   "version": "3.11.5"
  }
 },
 "nbformat": 4,
 "nbformat_minor": 5
}
