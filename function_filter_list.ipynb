{
 "cells": [
  {
   "cell_type": "code",
   "execution_count": null,
   "id": "e5239c37-b8e2-4fa2-9c67-95a5bf583544",
   "metadata": {},
   "outputs": [],
   "source": [
    "#Write a python program that, given an input list, will filter the input above a user defined threshold. \n",
    "#This is to be done with a standard function.\n",
    "#That is, given a list [1,2,3,4,5,6,7,8,9], and an argument (6), it should return [1,2,3,4,5,6]\n",
    "\n"
   ]
  },
  {
   "cell_type": "code",
   "execution_count": 9,
   "id": "829ae8c6-9cf0-4054-98b9-65c086e205a2",
   "metadata": {},
   "outputs": [
    {
     "name": "stdout",
     "output_type": "stream",
     "text": [
      "[1, 2, 3, 4, 5, 6]\n"
     ]
    }
   ],
   "source": [
    "def filter_list(input_list, threshold):\n",
    "    filtered_list = [x for x in input_list if x <= threshold]\n",
    "    return filtered_list\n",
    "\n",
    "input_list = [1, 2, 3, 4, 5, 6, 7, 8, 9]\n",
    "threshold = 6\n",
    "\n",
    "output = filter_list(input_list, threshold)\n",
    "print(output)\n"
   ]
  }
 ],
 "metadata": {
  "kernelspec": {
   "display_name": "Python 3 (ipykernel)",
   "language": "python",
   "name": "python3"
  },
  "language_info": {
   "codemirror_mode": {
    "name": "ipython",
    "version": 3
   },
   "file_extension": ".py",
   "mimetype": "text/x-python",
   "name": "python",
   "nbconvert_exporter": "python",
   "pygments_lexer": "ipython3",
   "version": "3.11.5"
  }
 },
 "nbformat": 4,
 "nbformat_minor": 5
}
