{
 "cells": [
  {
   "cell_type": "code",
   "execution_count": null,
   "id": "510daf66-17a9-49c4-bcce-fc3bfa16f0b7",
   "metadata": {},
   "outputs": [],
   "source": [
    "#Write the a python program that, given an input list of any level of complexity/nestedness, \n",
    "#will return the inner most list plus 1. This is to be done with recursion. Note: the input will contain only integers or lists. "
   ]
  },
  {
   "cell_type": "code",
   "execution_count": 1,
   "id": "ba0b0e5b-3fae-494f-a3a7-ea92dbebb677",
   "metadata": {},
   "outputs": [
    {
     "data": {
      "text/plain": [
       "[9, 10]"
      ]
     },
     "execution_count": 1,
     "metadata": {},
     "output_type": "execute_result"
    }
   ],
   "source": [
    "input_list = [1,2,3,4,[5,6,7,[8,9]]]\n",
    "# I'm using the same list from the previous question to be able to test this function \n",
    "def my_function(input_list):\n",
    "    inner_list= None # this is to initialize to none \n",
    "    for x in input_list: \n",
    "        if isinstance(x,list): \n",
    "            inner_list= my_function(x) \n",
    "        else:\n",
    "            if inner_list is None:\n",
    "                inner_list= []\n",
    "            inner_list.append(x+1)\n",
    "    return inner_list\n",
    "\n",
    "my_function(input_list)"
   ]
  }
 ],
 "metadata": {
  "kernelspec": {
   "display_name": "Python 3 (ipykernel)",
   "language": "python",
   "name": "python3"
  },
  "language_info": {
   "codemirror_mode": {
    "name": "ipython",
    "version": 3
   },
   "file_extension": ".py",
   "mimetype": "text/x-python",
   "name": "python",
   "nbconvert_exporter": "python",
   "pygments_lexer": "ipython3",
   "version": "3.11.5"
  }
 },
 "nbformat": 4,
 "nbformat_minor": 5
}
