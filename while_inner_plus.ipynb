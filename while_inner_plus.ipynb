{
 "cells": [
  {
   "cell_type": "code",
   "execution_count": 46,
   "id": "e43f485d-ba06-467a-96b1-951a61afd9c0",
   "metadata": {},
   "outputs": [
    {
     "name": "stdout",
     "output_type": "stream",
     "text": [
      "9\n",
      "10\n"
     ]
    }
   ],
   "source": [
    "## Write a python program that, given an input list of any level of complexity/nestedness, will return the inner most list plus 1.\n",
    "#This is to be done with a while loop. Note: the input will contain only integers or lists. \n",
    "#As an example:\n",
    "\n",
    "#input_list = [1,2,3,4,[5,6,7,[8,9]]]\n",
    "\n",
    "#your_py_program.py input_list\n",
    "\n",
    "#will produce:[9,10]\n",
    "\n",
    "#That is [8, 9] (the inner most list) plus 1 -> [9, 10]\n",
    "\n",
    "input_list = [1,2,3,4,[5,6,7,[8,9]]]\n",
    "def my_function(input_list):\n",
    "    for x in input_list: \n",
    "        if isinstance(x,list): \n",
    "            my_function(x) \n",
    "        else:\n",
    "            if x>7: \n",
    "                while x<= 10: \n",
    "                    x=x+1 \n",
    "                    print(x) \n",
    "                    break \n",
    "x=1 \n",
    "my_function(input_list)\n",
    "    \n",
    "\n",
    "\n",
    "\n",
    "\n"
   ]
  }
 ],
 "metadata": {
  "kernelspec": {
   "display_name": "Python 3 (ipykernel)",
   "language": "python",
   "name": "python3"
  },
  "language_info": {
   "codemirror_mode": {
    "name": "ipython",
    "version": 3
   },
   "file_extension": ".py",
   "mimetype": "text/x-python",
   "name": "python",
   "nbconvert_exporter": "python",
   "pygments_lexer": "ipython3",
   "version": "3.11.5"
  }
 },
 "nbformat": 4,
 "nbformat_minor": 5
}
